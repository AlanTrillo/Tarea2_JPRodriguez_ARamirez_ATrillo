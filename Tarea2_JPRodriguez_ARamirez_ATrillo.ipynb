{
 "cells": [
  {
   "cell_type": "markdown",
   "id": "09c01fe5",
   "metadata": {},
   "source": [
    "<img style=\"float: left; margin: 30px 15px 15px 15px;\" src=\"https://pngimage.net/wp-content/uploads/2018/06/logo-iteso-png-5.png\" width=\"300\" height=\"500\" /> \n",
    "    \n",
    "    \n",
    "### <font color='navy'> Simulación de procesos financieros. \n",
    "\n",
    "**Nombres:** Juan Pablo Rodríguez Alonso, Andrés Ramírez Villanueva, Alan Trillo Rendón\n",
    "\n",
    "**Fecha:** 07 de junio del 2021.\n",
    "\n",
    "**Expediente** : 715180, 726061, 713252.\n",
    "\n",
    "**Profesor:** Oscar David Jaramillo Zuluaga.\n",
    "    \n",
    "**Link Github**: [Link con el enlace del repositorio del creador del proyecto](https://github.com/JuanPrdz/Tarea2_JPRodriguez_ARamirez_ATrillo)\n",
    "\n",
    "# Tarea 2: Clase 4"
   ]
  },
  {
   "cell_type": "code",
   "execution_count": 1,
   "id": "b3f1056c",
   "metadata": {},
   "outputs": [],
   "source": [
    "from functools import reduce\n",
    "import pandas as pd\n",
    "import numpy as np"
   ]
  },
  {
   "cell_type": "markdown",
   "id": "38c47b95",
   "metadata": {},
   "source": [
    "### Ejercicio 1:\n",
    "1. Imagine una rutina contable utilizada en una librería. Funciona en una lista con sublistas, que se ven así:\n",
    "![](data:image/png;base64,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)\n",
    "Escriba un programa en Python, que devuelve una lista con tuplas de tamaño 2. Cada tupla consiste en el número de pedido y el costo total del pedido. El producto debe aumentarse en 10€ si el valor de la orden es inferior a 100,00 €. \n",
    "Escribe un programa Python usando unicamente las funciones **lambda y map**.\n",
    "\n",
    "`orders = [ [\"34587\", \"Learning Python, Mark Lutz\", 4, 40.95], \n",
    "           [\"98762\", \"Programming Python, Mark Lutz\", 5, 56.80], \n",
    "           [\"77226\", \"Head First Python, Paul Barry\", 3,32.95],\n",
    "           [\"88112\", \"Einführung in Python3, Bernd Klein\", 3, 24.99]]`"
   ]
  },
  {
   "cell_type": "code",
   "execution_count": 2,
   "id": "0dc7517f",
   "metadata": {},
   "outputs": [],
   "source": [
    "orders = [ [\"34587\", \"Learning Python, Mark Lutz\", 4, 40.95], \n",
    "           [\"98762\", \"Programming Python, Mark Lutz\", 5, 56.80], \n",
    "           [\"77226\", \"Head First Python, Paul Barry\", 3,32.95],\n",
    "           [\"88112\", \"Einführung in Python3, Bernd Klein\", 3, 24.99]]"
   ]
  },
  {
   "cell_type": "markdown",
   "id": "28058da0",
   "metadata": {},
   "source": [
    "#### Ejercicio 1: Estudiante 1 Juan Pablo Rodríguez Alonso"
   ]
  },
  {
   "cell_type": "code",
   "execution_count": 3,
   "id": "dec808ba",
   "metadata": {},
   "outputs": [
    {
     "data": {
      "text/plain": [
       "[('34587', 163.8),\n",
       " ('98762', 284.0),\n",
       " ('77226', 108.85000000000001),\n",
       " ('88112', 84.97)]"
      ]
     },
     "execution_count": 3,
     "metadata": {},
     "output_type": "execute_result"
    }
   ],
   "source": [
    "# Código de solución estudiante 1 Juan Pablo Rodríguez\n",
    "\n",
    "# Función que opera dada las condiciones del problema y el incremento de 10 si el valor es menor a 100\n",
    "incremento = lambda x, y: x*y + 10 if x*y < 100 else x*y\n",
    "\n",
    "# Map que a cada elemento de orders, coloca en la lista primeramente el numero de pedido y luego le aplica la función\n",
    "# incremento a los valores en las posiciones 2 y 3 de los orders\n",
    "list(map(lambda l_i: (l_i[0], incremento(l_i[2], l_i[3])), orders))"
   ]
  },
  {
   "cell_type": "markdown",
   "id": "525eb8b5",
   "metadata": {},
   "source": [
    "#### Ejercicio 1: Estudiante 2 Andrés Ramírez Villanueva"
   ]
  },
  {
   "cell_type": "code",
   "execution_count": 4,
   "id": "3920fca1",
   "metadata": {},
   "outputs": [
    {
     "data": {
      "text/plain": [
       "[('34587', 163.8),\n",
       " ('98762', 284.0),\n",
       " ('77226', 108.85000000000001),\n",
       " ('88112', 84.97)]"
      ]
     },
     "execution_count": 4,
     "metadata": {},
     "output_type": "execute_result"
    }
   ],
   "source": [
    "# Código de solución estudiante 2\n",
    "# Se importan ibrerías.\n",
    "\n",
    "from pandas import DataFrame\n",
    "import matplotlib.pyplot as plt\n",
    "import scipy.special as sps \n",
    "\n",
    "\n",
    "orders1 = [ [\"34587\", \"Learning Python, Mark Lutz\", 4, 40.95], \n",
    "           [\"98762\", \"Programming Python, Mark Lutz\", 5, 56.80], \n",
    "           [\"77226\", \"Head First Python, Paul Barry\", 3,32.95],\n",
    "           [\"88112\", \"Einführung in Python3, Bernd Klein\", 3, 24.99]]\n",
    "\n",
    "o1 = lambda x: (x[0], x[2] * x[3])\n",
    "o2 = lambda x: x if x[1] >= 100 else (x[0], x[1] + 10) \n",
    "\n",
    "orden = list(map(o2, map(o1, orders1)))\n",
    "orden"
   ]
  },
  {
   "cell_type": "markdown",
   "id": "f94343a7",
   "metadata": {},
   "source": [
    "#### Ejercicio 1: Estudiante 3 Alan Trillo"
   ]
  },
  {
   "cell_type": "code",
   "execution_count": 5,
   "id": "211375b0",
   "metadata": {},
   "outputs": [
    {
     "data": {
      "text/plain": [
       "[('34587', 163.8),\n",
       " ('98762', 284.0),\n",
       " ('77226', 108.85000000000001),\n",
       " ('88112', 84.97)]"
      ]
     },
     "execution_count": 5,
     "metadata": {},
     "output_type": "execute_result"
    }
   ],
   "source": [
    "# Código de solución estudiante 3\n",
    "########### Solución 1\n",
    "orders = [ [\"34587\", \"Learning Python, Mark Lutz\", 4, 40.95], \n",
    "           [\"98762\", \"Programming Python, Mark Lutz\", 5, 56.80], \n",
    "           [\"77226\", \"Head First Python, Paul Barry\", 3,32.95],\n",
    "           [\"88112\", \"Einführung in Python3, Bernd Klein\", 3, 24.99]]\n",
    "\n",
    "# El resultado debe ser como muestro en el resultado de esta celda\n",
    "\n",
    "res = lambda x, y: x * y + 10 if x * y < 100 else x * y\n",
    "list(map(lambda no: (no[0], res(no[2],no[3])) , orders))"
   ]
  },
  {
   "cell_type": "markdown",
   "id": "e5f8c33a",
   "metadata": {},
   "source": [
    "### Ejercicio 2:\n",
    "\n",
    "2. La misma librería, pero esta vez trabajamos en una lista diferente. Las sublistas de nuestras listas se ven así: \n",
    "[número de orden, (número de artículo, cantidad, precio por unidad), ... (número de artículo, cantidad, precio por unidad)] \n",
    "\n",
    "`orders = [[1, (\"5464\", 4, 9.99), (\"8274\",18,12.99), (\"9744\", 9, 44.95)], \n",
    "\t       [2, (\"5464\", 9, 9.99), (\"9744\", 9, 44.95)],\n",
    "\t       [3, (\"5464\", 9, 9.99), (\"88112\", 11, 24.99)],\n",
    "           [4, (\"8732\", 7, 11.99), (\"7733\",11,18.99), (\"88112\", 5, 39.95)] ]`\n",
    "           \n",
    " Escriba un programa que devuelva una lista de dos tuplas que tengan la información de (número de pedido, cantidad total de pedido). Utilice la función `Reduce`. Recuerde el precio del pedido del producto debe aumentarse en 10€ si el valor de la orden es inferior a 100,00 €."
   ]
  },
  {
   "cell_type": "code",
   "execution_count": 6,
   "id": "412ee19c",
   "metadata": {},
   "outputs": [],
   "source": [
    "orders_2 = [[1, (\"5464\", 4, 9.99), (\"8274\",18,12.99), (\"9744\", 9, 44.95)], \n",
    "          [2, (\"5464\", 9, 9.99), (\"9744\", 9, 44.95)],\n",
    "          [3, (\"5464\", 9, 9.99), (\"88112\", 11, 24.99)],\n",
    "          [4, (\"8732\", 7, 11.99), (\"7733\",11,18.99), (\"88112\", 5, 39.95)] ]"
   ]
  },
  {
   "cell_type": "markdown",
   "id": "bb0055dc",
   "metadata": {},
   "source": [
    "#### Ejercicio 2: Estudiante 1 Juan Pablo Rodríguez Alonso"
   ]
  },
  {
   "cell_type": "code",
   "execution_count": 7,
   "id": "82ab2efc",
   "metadata": {},
   "outputs": [
    {
     "data": {
      "text/plain": [
       "[(1, 688.3299999999999),\n",
       " (2, 504.46000000000004),\n",
       " (3, 374.79999999999995),\n",
       " (4, 502.57)]"
      ]
     },
     "execution_count": 7,
     "metadata": {},
     "output_type": "execute_result"
    }
   ],
   "source": [
    "# Código de solución estudiante 1 Juan Pablo Rodríguez\n",
    "\n",
    "# Función que opera dada las condiciones del problema y el incremento de 10 si el valor es menor a 100\n",
    "incremento = lambda x, y: x*y + 10 if x*y < 100 else x*y\n",
    "# Función que va a sumar \n",
    "suma = lambda x, y: x+y\n",
    "indice = list(map(lambda ind: ind[0], orders_2))\n",
    "tuplas = list(map(lambda tup: tup[1:], orders_2))\n",
    "total = list(map(lambda tot: reduce(suma,list(map(lambda tol: incremento(tol[1],tol[2]), tot))), tuplas))\n",
    "final = list(zip(indice, total))\n",
    "final"
   ]
  },
  {
   "cell_type": "markdown",
   "id": "f1fd8680",
   "metadata": {},
   "source": [
    "#### Ejercicio 2: Estudiante 2  Andrés Ramírez Villanueva"
   ]
  },
  {
   "cell_type": "code",
   "execution_count": 8,
   "id": "d36b297a",
   "metadata": {},
   "outputs": [
    {
     "data": {
      "text/plain": [
       "[(1, 678.3299999999999),\n",
       " (2, 494.46000000000004),\n",
       " (3, 364.79999999999995),\n",
       " (4, 492.57)]"
      ]
     },
     "execution_count": 8,
     "metadata": {},
     "output_type": "execute_result"
    }
   ],
   "source": [
    "# Código de solución estudiante 2\n",
    "eje2 = list(map(lambda x: x if x[1]>=100 else (x[0],x[1]+10),map(lambda y:(y[0],reduce(lambda a,b:a+b,list(map(lambda z:z[1]*z[2] ,y[1:])))),orders_2)))\n",
    "eje2"
   ]
  },
  {
   "cell_type": "markdown",
   "id": "6ba8ac96",
   "metadata": {},
   "source": [
    "#### Ejercicio 2: Estudiante 3 Alan Trillo"
   ]
  },
  {
   "cell_type": "code",
   "execution_count": 9,
   "id": "54e21630",
   "metadata": {},
   "outputs": [
    {
     "data": {
      "text/plain": [
       "[(1, 688.3299999999999),\n",
       " (2, 504.46000000000004),\n",
       " (3, 374.79999999999995),\n",
       " (4, 502.57)]"
      ]
     },
     "execution_count": 9,
     "metadata": {},
     "output_type": "execute_result"
    }
   ],
   "source": [
    "# Código de solución estudiante 3\n",
    "########### Solución 2\n",
    "orders = [[1, (\"5464\", 4, 9.99), (\"8274\",18,12.99), (\"9744\", 9, 44.95)], \n",
    "          [2, (\"5464\", 9, 9.99), (\"9744\", 9, 44.95)],\n",
    "          [3, (\"5464\", 9, 9.99), (\"88112\", 11, 24.99)],\n",
    "          [4, (\"8732\", 7, 11.99), (\"7733\",11,18.99), (\"88112\", 5, 39.95)] ]\n",
    "\n",
    "from functools import reduce\n",
    "incremento = lambda x, y: x * y + 10 if x * y < 100 else x * y \n",
    "suma = lambda x, y: x + y \n",
    "#Jalamos el número de pedido, el número localizado en el indice\n",
    "indice = list(map(lambda ind: ind[0], orders))\n",
    "\n",
    "#Quitamos el indice, para tener las listas en donde se encuentra la información\n",
    "#que necesitamos para sacar el monto de cada pedido\n",
    "tuplas = list(map(lambda tup: tup[1:], orders))\n",
    "\n",
    "\n",
    "#total es el resultado de lo que buscamos, primero usamos la función global suma en una librería que es reduce, que lo que va \n",
    "#a hacer es irnos sumando el monto total de los pedidos, en la misma librería, al momento de definir la suma que nos tiene que\n",
    "#hacer, estamos creando una nueva lista en donde se está multiplicando la cantidad por el precio de la lista que creamos \n",
    "#arroba llamada tuplas, entonces, reduce está sumando del pedido 1, la multiplicación de cantidad por precio. \n",
    "total = list(map(lambda tot: reduce(suma , list(map(lambda tol: incremento(tol[1] , tol[2]), tot))), tuplas))\n",
    "\n",
    "#para terminar, unimos el número de pedido y el total de cada pedido.\n",
    "final = list(zip(indice, total))\n",
    "final\n"
   ]
  },
  {
   "cell_type": "markdown",
   "id": "f5a98efd",
   "metadata": {},
   "source": [
    "### Ejercicio 3:\n",
    "\n",
    "3. Resolver los anteriores ejercicios usando pandas (DataFrame)"
   ]
  },
  {
   "cell_type": "markdown",
   "id": "425d67ad",
   "metadata": {},
   "source": [
    "#### Ejercicio 3: Estudiante 1 Juan Pablo Rodríguez Alonso"
   ]
  },
  {
   "cell_type": "code",
   "execution_count": 10,
   "id": "81300f3c",
   "metadata": {},
   "outputs": [
    {
     "data": {
      "text/html": [
       "<div>\n",
       "<style scoped>\n",
       "    .dataframe tbody tr th:only-of-type {\n",
       "        vertical-align: middle;\n",
       "    }\n",
       "\n",
       "    .dataframe tbody tr th {\n",
       "        vertical-align: top;\n",
       "    }\n",
       "\n",
       "    .dataframe thead th {\n",
       "        text-align: right;\n",
       "    }\n",
       "</style>\n",
       "<table border=\"1\" class=\"dataframe\">\n",
       "  <thead>\n",
       "    <tr style=\"text-align: right;\">\n",
       "      <th></th>\n",
       "      <th>Precio</th>\n",
       "    </tr>\n",
       "  </thead>\n",
       "  <tbody>\n",
       "    <tr>\n",
       "      <th>34587</th>\n",
       "      <td>163.80</td>\n",
       "    </tr>\n",
       "    <tr>\n",
       "      <th>98762</th>\n",
       "      <td>284.00</td>\n",
       "    </tr>\n",
       "    <tr>\n",
       "      <th>77226</th>\n",
       "      <td>108.85</td>\n",
       "    </tr>\n",
       "    <tr>\n",
       "      <th>88112</th>\n",
       "      <td>84.97</td>\n",
       "    </tr>\n",
       "  </tbody>\n",
       "</table>\n",
       "</div>"
      ],
      "text/plain": [
       "       Precio\n",
       "34587  163.80\n",
       "98762  284.00\n",
       "77226  108.85\n",
       "88112   84.97"
      ]
     },
     "execution_count": 10,
     "metadata": {},
     "output_type": "execute_result"
    }
   ],
   "source": [
    "# Código de solución estudiante 1 Juan Pablo Rodríguez\n",
    "# Ejercicio 3\n",
    "orders = [ [\"34587\", \"Learning Python, Mark Lutz\", 4, 40.95], \n",
    "           [\"98762\", \"Programming Python, Mark Lutz\", 5, 56.80], \n",
    "           [\"77226\", \"Head First Python, Paul Barry\", 3,32.95],\n",
    "           [\"88112\", \"Einführung in Python3, Bernd Klein\", 3, 24.99]]\n",
    "orders_df = pd.DataFrame(orders)\n",
    "\n",
    "condicion = lambda x: x if x>=100 else (x+10)\n",
    "resultado = pd.DataFrame([(orders_df.iloc[:,2]*orders_df.iloc[:,3]).apply(condicion)], \n",
    "                         index = [\"Precio\"]).T\n",
    "for i in range(len(orders_df)):\n",
    "    global resultado\n",
    "    resultado = resultado.rename(index = {i: orders_df.iloc[i,0]})\n",
    "resultado"
   ]
  },
  {
   "cell_type": "code",
   "execution_count": 11,
   "id": "0e6414ce",
   "metadata": {},
   "outputs": [
    {
     "data": {
      "text/html": [
       "<div>\n",
       "<style scoped>\n",
       "    .dataframe tbody tr th:only-of-type {\n",
       "        vertical-align: middle;\n",
       "    }\n",
       "\n",
       "    .dataframe tbody tr th {\n",
       "        vertical-align: top;\n",
       "    }\n",
       "\n",
       "    .dataframe thead th {\n",
       "        text-align: right;\n",
       "    }\n",
       "</style>\n",
       "<table border=\"1\" class=\"dataframe\">\n",
       "  <thead>\n",
       "    <tr style=\"text-align: right;\">\n",
       "      <th></th>\n",
       "      <th>Total</th>\n",
       "    </tr>\n",
       "  </thead>\n",
       "  <tbody>\n",
       "    <tr>\n",
       "      <th>1</th>\n",
       "      <td>688.33</td>\n",
       "    </tr>\n",
       "    <tr>\n",
       "      <th>2</th>\n",
       "      <td>504.46</td>\n",
       "    </tr>\n",
       "    <tr>\n",
       "      <th>3</th>\n",
       "      <td>374.80</td>\n",
       "    </tr>\n",
       "    <tr>\n",
       "      <th>4</th>\n",
       "      <td>502.57</td>\n",
       "    </tr>\n",
       "  </tbody>\n",
       "</table>\n",
       "</div>"
      ],
      "text/plain": [
       "    Total\n",
       "1  688.33\n",
       "2  504.46\n",
       "3  374.80\n",
       "4  502.57"
      ]
     },
     "execution_count": 11,
     "metadata": {},
     "output_type": "execute_result"
    }
   ],
   "source": [
    "# Código de solución estudiante 1 Juan Pablo Rodríguez\n",
    "# Ejercicio 2\n",
    "orders_2 = [[1, (\"5464\", 4, 9.99), (\"8274\",18,12.99), (\"9744\", 9, 44.95)], \n",
    "          [2, (\"5464\", 9, 9.99), (\"9744\", 9, 44.95)],\n",
    "          [3, (\"5464\", 9, 9.99), (\"88112\", 11, 24.99)],\n",
    "          [4, (\"8732\", 7, 11.99), (\"7733\",11,18.99), (\"88112\", 5, 39.95)] ]\n",
    "orders2_df = pd.DataFrame(orders_2)\n",
    "condicion2 = lambda x: 0 if x==None else x if x>=100 else (x+10)\n",
    "def prueba(x: \"Entrada\"):\n",
    "    '''\n",
    "    Esta función hace que los datos con None se hagan cero para poder iterar en las multiplicaciones\n",
    "    '''\n",
    "    try:\n",
    "        return condicion2(x[1]*x[2])\n",
    "    except:\n",
    "        return 0 \n",
    "orders2_df.iloc[:,3].apply(prueba)\n",
    "sumatoria = pd.DataFrame([orders2_df.iloc[:,i].apply(prueba) for i in range(1,len(orders2_df))])\n",
    "total_suma =pd.DataFrame([sumatoria.iloc[:,i].sum() for i in range(len(orders2_df))])\n",
    "total_suma = total_suma.rename(index = lambda x: orders2_df.iloc[x,0])\n",
    "total_suma.columns = [\"Total\"]\n",
    "total_suma"
   ]
  },
  {
   "cell_type": "markdown",
   "id": "40a08034",
   "metadata": {},
   "source": [
    "#### Ejercicio 3: Estudiante 2 Andres Ramirez Villanueva"
   ]
  },
  {
   "cell_type": "code",
   "execution_count": 12,
   "id": "9b11c6c0",
   "metadata": {},
   "outputs": [
    {
     "name": "stdout",
     "output_type": "stream",
     "text": [
      "        0 Order number\n",
      "0   163.8        34587\n",
      "1   284.0        98762\n",
      "2  108.85        77226\n",
      "3   84.97        88112\n"
     ]
    }
   ],
   "source": [
    "# Código de solución estudiante 2 Ejercicio 1\n",
    "data1=pd.DataFrame(columns=[\"Order number\",\"Book Title and Author\",\"Quantity\",\"Price per Item\"], data=orders1)\n",
    "eje3=[(data1.iloc[:,-2]*data1.iloc[:,-1]).apply(lambda x: x if x>=100 else (x+10))]\n",
    "eje3=pd.DataFrame(eje3)\n",
    "eje3=eje3.append(data1.iloc[:,0])\n",
    "print(eje3.T)"
   ]
  },
  {
   "cell_type": "code",
   "execution_count": 13,
   "id": "0ff3ef58",
   "metadata": {},
   "outputs": [
    {
     "data": {
      "text/plain": [
       "[0    678.33\n",
       " 1    494.46\n",
       " 2    364.80\n",
       " 3    492.57\n",
       " dtype: float64]"
      ]
     },
     "execution_count": 13,
     "metadata": {},
     "output_type": "execute_result"
    }
   ],
   "source": [
    "# Código de solución estudiante 2 Ejercicio 2\n",
    "orders_2 = [[1, \"5464\", 4, 9.99, \"8274\",18,12.99, \"9744\", 9, 44.95], \n",
    "           [2, \"5464\", 9, 9.99, \"9744\", 9, 44.95, 0,0,0],\n",
    "           [3, \"5464\", 9, 9.99, \"88112\", 11, 24.99, 0,0,0],\n",
    "           [4, \"8732\", 7, 11.99, \"7733\",11,18.99, \"88112\", 5, 39.95]]\n",
    "data2=pd.DataFrame(orders_2)\n",
    "\n",
    "eje3_1= [((data2.iloc[:,2]*data2.iloc[:,3])+(data2.iloc[:,5]*data2.iloc[:,6])+(data2.iloc[:,8]*data2.iloc[:,9])).apply(lambda x: x if x>=100 else (x+10))]\n",
    "eje3_1"
   ]
  },
  {
   "cell_type": "markdown",
   "id": "df3af135",
   "metadata": {},
   "source": [
    "#### Ejercicio 3: Estudiante 3 Alan Trillo"
   ]
  },
  {
   "cell_type": "code",
   "execution_count": 14,
   "id": "3edae29a",
   "metadata": {},
   "outputs": [],
   "source": [
    "# Código de solución estudiante 3 Ejercicio 1"
   ]
  },
  {
   "cell_type": "code",
   "execution_count": 15,
   "id": "3746cbc4",
   "metadata": {},
   "outputs": [],
   "source": [
    "# Código de solución estudiante 3 Ejercicio 2"
   ]
  },
  {
   "cell_type": "markdown",
   "id": "9a7066b2",
   "metadata": {},
   "source": [
    "### Ejercicio 4:\n",
    "\n",
    "4. Use filter to eliminate all words that are shorter than 4 letters from a list of words\n",
    "`list='the notion of a lambda function goes all the way back to the origin of computer science'`"
   ]
  },
  {
   "cell_type": "markdown",
   "id": "03bd31b2",
   "metadata": {},
   "source": [
    "#### Ejercicio 4: Estudiante 1 Juan Pablo Rodríguez Alonso"
   ]
  },
  {
   "cell_type": "code",
   "execution_count": 16,
   "id": "70edaa00",
   "metadata": {},
   "outputs": [
    {
     "data": {
      "text/plain": [
       "['notion',\n",
       " 'lambda',\n",
       " 'function',\n",
       " 'goes',\n",
       " 'back',\n",
       " 'origin',\n",
       " 'computer',\n",
       " 'science']"
      ]
     },
     "execution_count": 16,
     "metadata": {},
     "output_type": "execute_result"
    }
   ],
   "source": [
    "# Código de solución estudiante 1 Juan Pablo Rodríguez\n",
    "lista='the notion of a lambda function goes all the way back to the origin of computer science'\n",
    "filtra = list(filter(lambda x: len(x)>3, lista.split()))\n",
    "filtra"
   ]
  },
  {
   "cell_type": "markdown",
   "id": "3f40ae2e",
   "metadata": {},
   "source": [
    "#### Ejercicio 4: Estudiante 2 Andrés Ramírez Villanueva"
   ]
  },
  {
   "cell_type": "code",
   "execution_count": 17,
   "id": "7a1fdae2",
   "metadata": {},
   "outputs": [
    {
     "data": {
      "text/plain": [
       "['notion',\n",
       " 'lambda',\n",
       " 'function',\n",
       " 'goes',\n",
       " 'back',\n",
       " 'origin',\n",
       " 'computer',\n",
       " 'science']"
      ]
     },
     "execution_count": 17,
     "metadata": {},
     "output_type": "execute_result"
    }
   ],
   "source": [
    "# Código de solución estudiante 2\n",
    "cadena = \"the notion of a lambda function goes all the way back to the origin of computer science\"\n",
    "cortador = lambda x: len(x) >= 4 \n",
    "x = list(filter(cortador, cadena.split()))\n",
    "x"
   ]
  },
  {
   "cell_type": "markdown",
   "id": "8e5ad980",
   "metadata": {},
   "source": [
    "#### Ejercicio 4: Estudiante 3 Alan Trillo"
   ]
  },
  {
   "cell_type": "code",
   "execution_count": 18,
   "id": "08a8d4fc",
   "metadata": {},
   "outputs": [
    {
     "data": {
      "text/plain": [
       "['notion',\n",
       " 'lambda',\n",
       " 'function',\n",
       " 'goes',\n",
       " 'back',\n",
       " 'origin',\n",
       " 'computer',\n",
       " 'science']"
      ]
     },
     "execution_count": 18,
     "metadata": {},
     "output_type": "execute_result"
    }
   ],
   "source": [
    "# Código de solución estudiante 3\n",
    "# Respuesta\n",
    "list_1='the notion of a lambda function goes all the way back to the origin of computer science'\n",
    "cond = lambda x: len(x) >= 4\n",
    "x = list(filter(cond,list_1.split()))\n",
    "x"
   ]
  },
  {
   "cell_type": "markdown",
   "id": "ab64590d",
   "metadata": {},
   "source": [
    "### Ejercicio 5:\n",
    "5. Use filter to determine the percentage of Fahrenheit temperatures in a list are within the range 32 to 80"
   ]
  },
  {
   "cell_type": "code",
   "execution_count": 19,
   "id": "a037825b",
   "metadata": {},
   "outputs": [
    {
     "name": "stdout",
     "output_type": "stream",
     "text": [
      "[ 35.97387961  99.13294268  92.6178302   99.69549478  63.21119535\n",
      "  73.90387697  95.50028838  99.21476553  36.98251238 101.45813729\n",
      " 100.5917418   89.38159435  89.52156589  83.8084752   28.37990868\n",
      "  68.75395211  45.86132067  36.58307493  56.32208365  33.96219302\n",
      "  45.29071318  74.86289938  66.51091383  88.19316186  94.26635864\n",
      "  46.83131624 109.60744472 109.68427993  44.55796499  92.84146259]\n"
     ]
    }
   ],
   "source": [
    "np.random.seed(55555)\n",
    "temperatures = np.random.uniform(25,110,30)\n",
    "print(temperatures)"
   ]
  },
  {
   "cell_type": "markdown",
   "id": "55283ee8",
   "metadata": {},
   "source": [
    "#### Ejercicio 5: Estudiante 1 Juan Pablo Rodríguez Alonso"
   ]
  },
  {
   "cell_type": "code",
   "execution_count": 20,
   "id": "284a873c",
   "metadata": {},
   "outputs": [
    {
     "name": "stdout",
     "output_type": "stream",
     "text": [
      "El porcentaje que entra en el rango entre 32 y 80 son:  46.666666666666664 %\n"
     ]
    }
   ],
   "source": [
    "# Código de solución estudiante 1 Juan Pablo Rodríguez\n",
    "filtro= list(filter(lambda x: 30<= x <=80 , temperatures))\n",
    "print(\"El porcentaje que entra en el rango entre 32 y 80 son: \", len(filtro)*100/len(temperatures), \"%\")"
   ]
  },
  {
   "cell_type": "markdown",
   "id": "f232e74b",
   "metadata": {},
   "source": [
    "#### Ejercicio 5: Estudiante 2 Andrés Ramírez Villanueva"
   ]
  },
  {
   "cell_type": "code",
   "execution_count": 21,
   "id": "d50b79fe",
   "metadata": {},
   "outputs": [
    {
     "data": {
      "text/plain": [
       "0.4666666666666667"
      ]
     },
     "execution_count": 21,
     "metadata": {},
     "output_type": "execute_result"
    }
   ],
   "source": [
    "# Código de solución estudiante 2\n",
    "temp_rango = lambda x: 32 <= x <= 80\n",
    "temp_prom = len(list(filter(temp_rango, temperatures)))/len(temperatures)\n",
    "temp_prom"
   ]
  },
  {
   "cell_type": "markdown",
   "id": "3ce94358",
   "metadata": {},
   "source": [
    "#### Ejercicio 5: Estudiante 3 Alan Trillo"
   ]
  },
  {
   "cell_type": "code",
   "execution_count": 22,
   "id": "72923f79",
   "metadata": {},
   "outputs": [
    {
     "data": {
      "text/plain": [
       "46.666666666666664"
      ]
     },
     "execution_count": 22,
     "metadata": {},
     "output_type": "execute_result"
    }
   ],
   "source": [
    "# Código de solución estudiante 3\n",
    "cond = lambda x: 32 <= x <= 80\n",
    "suma = (list(filter(cond, temperatures)))\n",
    "prom = len(suma)/len(temperatures)\n",
    "prom*100"
   ]
  },
  {
   "cell_type": "markdown",
   "id": "58097396",
   "metadata": {},
   "source": [
    "### Ejercicio 6:\n",
    "6. Use reduce to find the lower left corner (minimum x and minimum y value) for a list of point locations\n",
    "> **Hint**: Explore the command `np.minimum.reduce` [link](https://docs.scipy.org/doc/numpy/reference/generated/numpy.ufunc.reduce.html)"
   ]
  },
  {
   "cell_type": "code",
   "execution_count": 23,
   "id": "6bc4d0ff",
   "metadata": {},
   "outputs": [
    {
     "name": "stdout",
     "output_type": "stream",
     "text": [
      "[[17 97]\n",
      " [22 33]\n",
      " [37 46]\n",
      " [57 28]\n",
      " [11 25]\n",
      " [14  2]\n",
      " [74 16]\n",
      " [12 37]\n",
      " [35 21]\n",
      " [66 65]\n",
      " [86 58]\n",
      " [67 81]\n",
      " [ 0 48]\n",
      " [28 66]\n",
      " [76 22]\n",
      " [46 47]\n",
      " [64  7]\n",
      " [88 94]\n",
      " [65 13]\n",
      " [75 89]\n",
      " [23 17]\n",
      " [36 63]\n",
      " [62 36]\n",
      " [64 17]\n",
      " [18 19]\n",
      " [88 41]\n",
      " [21 49]\n",
      " [98 36]\n",
      " [81 73]\n",
      " [62 90]]\n"
     ]
    }
   ],
   "source": [
    "np.random.seed(55555)\n",
    "point_xy = np.random.randint(0,100,[30,2])\n",
    "print(point_xy)"
   ]
  },
  {
   "cell_type": "markdown",
   "id": "aeb80f7f",
   "metadata": {},
   "source": [
    "#### Ejercicio 6: Estudiante 1 Juan Pablo Rodríguez Alonso"
   ]
  },
  {
   "cell_type": "code",
   "execution_count": 24,
   "id": "a95f9a82",
   "metadata": {},
   "outputs": [
    {
     "data": {
      "text/plain": [
       "array([0, 2])"
      ]
     },
     "execution_count": 24,
     "metadata": {},
     "output_type": "execute_result"
    }
   ],
   "source": [
    "# Código de solución estudiante 1 Juan Pablo RodrÍguez\n",
    "left_corner = np.minimum.reduce(point_xy)\n",
    "left_corner"
   ]
  },
  {
   "cell_type": "markdown",
   "id": "cfc1ff58",
   "metadata": {},
   "source": [
    "#### Ejercicio 6: Estudiante 2 Andrés Ramírez Villanueva"
   ]
  },
  {
   "cell_type": "code",
   "execution_count": 25,
   "id": "9f62cc1a",
   "metadata": {},
   "outputs": [
    {
     "data": {
      "text/plain": [
       "array([0, 2])"
      ]
     },
     "execution_count": 25,
     "metadata": {},
     "output_type": "execute_result"
    }
   ],
   "source": [
    "# Código de solución estudiante 2\n",
    "np.minimum.reduce(point_xy)"
   ]
  },
  {
   "cell_type": "markdown",
   "id": "802e6ae7",
   "metadata": {},
   "source": [
    "#### Ejercicio 6: Estudiante 3 Alan Trillo"
   ]
  },
  {
   "cell_type": "code",
   "execution_count": 26,
   "id": "cc890a69",
   "metadata": {},
   "outputs": [
    {
     "data": {
      "text/plain": [
       "array([0, 2])"
      ]
     },
     "execution_count": 26,
     "metadata": {},
     "output_type": "execute_result"
    }
   ],
   "source": [
    "# Código de solución estudiante 3\n",
    "np.minimum.reduce(point_xy)"
   ]
  }
 ],
 "metadata": {
  "kernelspec": {
   "display_name": "Python 3",
   "language": "python",
   "name": "python3"
  },
  "language_info": {
   "codemirror_mode": {
    "name": "ipython",
    "version": 3
   },
   "file_extension": ".py",
   "mimetype": "text/x-python",
   "name": "python",
   "nbconvert_exporter": "python",
   "pygments_lexer": "ipython3",
   "version": "3.8.8"
  }
 },
 "nbformat": 4,
 "nbformat_minor": 5
}
